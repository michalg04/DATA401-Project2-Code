{
 "cells": [
  {
   "cell_type": "code",
   "execution_count": 17,
   "metadata": {},
   "outputs": [],
   "source": [
    "import pandas as pd\n",
    "import matplotlib.pyplot as plt\n",
    "import seaborn as sns\n",
    "import numpy as np"
   ]
  },
  {
   "cell_type": "code",
   "execution_count": 25,
   "metadata": {},
   "outputs": [
    {
     "data": {
      "image/png": "[encoded data removed]",
      "text/plain": [
       "<Figure size 288x288 with 1 Axes>"
      ]
     },
     "metadata": {
      "needs_background": "light"
     },
     "output_type": "display_data"
    }
   ],
   "source": [
    "logistic = pd.DataFrame({\n",
    "    0: {0: 9176, 1: 3324},\n",
    "    1: {0: 3047, 1: 9453}\n",
    "})\n",
    "\n",
    "fig = plt.figure(figsize = (4,4))\n",
    "sns.heatmap(\n",
    "    logistic.T, square=True, \n",
    "    annot=True, fmt='d', cbar=False, cmap=\"Blues\"\n",
    ")\n",
    "plt.yticks([0.5,1.5], [0,1])\n",
    "plt.xticks([0.5,1.5], [0,1])\n",
    "plt.title('Confusion Matrix: Logistic Regression\\nTest Accuracy = 0.74')\n",
    "plt.show()"
   ]
  },
  {
   "cell_type": "code",
   "execution_count": 26,
   "metadata": {},
   "outputs": [
    {
     "data": {
      "image/png": "[encoded data removed]",
      "text/plain": [
       "<Figure size 288x288 with 1 Axes>"
      ]
     },
     "metadata": {
      "needs_background": "light"
     },
     "output_type": "display_data"
    }
   ],
   "source": [
    "lda = pd.DataFrame({\n",
    "    0: {0: 9473, 1: 3027},\n",
    "    1: {0: 3259, 1: 9241}\n",
    "})\n",
    "\n",
    "fig = plt.figure(figsize = (4,4))\n",
    "sns.heatmap(\n",
    "    lda.T, square=True, \n",
    "    annot=True, fmt='d', cbar=False, cmap=\"Blues\"\n",
    ")\n",
    "plt.yticks([0.5,1.5], [0,1])\n",
    "plt.xticks([0.5,1.5], [0,1])\n",
    "plt.title('Confusion Matrix: LDA\\nTest Accuracy = 0.75')\n",
    "plt.show()"
   ]
  },
  {
   "cell_type": "code",
   "execution_count": 28,
   "metadata": {},
   "outputs": [
    {
     "data": {
      "image/png": "[encoded data removed]",
      "text/plain": [
       "<Figure size 288x288 with 1 Axes>"
      ]
     },
     "metadata": {
      "needs_background": "light"
     },
     "output_type": "display_data"
    }
   ],
   "source": [
    "svm = pd.DataFrame({\n",
    "    0: {0: 6735, 1: 5765},\n",
    "    1: {0: 1835, 1: 10665}\n",
    "})\n",
    "\n",
    "fig = plt.figure(figsize = (4,4))\n",
    "sns.heatmap(\n",
    "    svm.T, square=True, \n",
    "    annot=True, fmt='d', cbar=False, cmap=\"Blues\"\n",
    ")\n",
    "plt.yticks([0.5,1.5], [0,1])\n",
    "plt.xticks([0.5,1.5], [0,1])\n",
    "plt.title('Confusion Matrix: SVM\\nTest Accuracy = 0.70')\n",
    "plt.show()"
   ]
  },
  {
   "cell_type": "code",
   "execution_count": 36,
   "metadata": {},
   "outputs": [],
   "source": [
    "from IPython.core.display import Markdown"
   ]
  },
  {
   "cell_type": "code",
   "execution_count": 50,
   "metadata": {},
   "outputs": [
    {
     "data": {
      "text/html": [
       "<center><h3>Test Accuracies</h3></center>"
      ],
      "text/plain": [
       "<IPython.core.display.HTML object>"
      ]
     },
     "metadata": {},
     "output_type": "display_data"
    },
    {
     "data": {
      "text/html": [
       "<div>\n",
       "<style scoped>\n",
       "    .dataframe tbody tr th:only-of-type {\n",
       "        vertical-align: middle;\n",
       "    }\n",
       "\n",
       "    .dataframe tbody tr th {\n",
       "        vertical-align: top;\n",
       "    }\n",
       "\n",
       "    .dataframe thead th {\n",
       "        text-align: right;\n",
       "    }\n",
       "</style>\n",
       "<table border=\"1\" class=\"dataframe\">\n",
       "  <thead>\n",
       "    <tr style=\"text-align: right;\">\n",
       "      <th></th>\n",
       "      <th>Classifier</th>\n",
       "      <th>Our Features</th>\n",
       "      <th>Top 500 from Bag of Words</th>\n",
       "      <th>Combined Features</th>\n",
       "    </tr>\n",
       "  </thead>\n",
       "  <tbody>\n",
       "    <tr>\n",
       "      <td>0</td>\n",
       "      <td>Logistic</td>\n",
       "      <td>0.74668</td>\n",
       "      <td>0.8412*</td>\n",
       "      <td>0.87836*</td>\n",
       "    </tr>\n",
       "    <tr>\n",
       "      <td>1</td>\n",
       "      <td>LDA</td>\n",
       "      <td>0.74856</td>\n",
       "      <td>0.8386</td>\n",
       "      <td>0.87336</td>\n",
       "    </tr>\n",
       "    <tr>\n",
       "      <td>2</td>\n",
       "      <td>SVM</td>\n",
       "      <td>0.696</td>\n",
       "      <td>0.84368*</td>\n",
       "      <td>0.88192*</td>\n",
       "    </tr>\n",
       "  </tbody>\n",
       "</table>\n",
       "</div>"
      ],
      "text/plain": [
       "  Classifier Our Features Top 500 from Bag of Words Combined Features\n",
       "0   Logistic      0.74668                   0.8412*          0.87836*\n",
       "1        LDA      0.74856                    0.8386           0.87336\n",
       "2        SVM        0.696                  0.84368*          0.88192*"
      ]
     },
     "metadata": {},
     "output_type": "display_data"
    },
    {
     "data": {
      "text/html": [
       "<right><p>* using SciKitLearn</p></right>"
      ],
      "text/plain": [
       "<IPython.core.display.HTML object>"
      ]
     },
     "metadata": {},
     "output_type": "display_data"
    }
   ],
   "source": [
    "overall = pd.DataFrame({\n",
    "    'Classifier': ['Logistic','LDA','SVM'],\n",
    "    'Our Features': ['0.74668', '0.74856', '0.696'],\n",
    "    'Top 500 from Bag of Words': ['0.8412*', '0.8386',' 0.84368*'],\n",
    "    'Combined Features': ['0.87836*', '0.87336', '0.88192*']\n",
    "})\n",
    "display(HTML('<center><h3>Test Accuracies</h3></center>'))\n",
    "display(overall)\n",
    "display(HTML('<right><p>* using SciKitLearn</p></right>'))"
   ]
  }
 ],
 "metadata": {
  "kernelspec": {
   "display_name": "Python 3",
   "language": "python",
   "name": "python3"
  },
  "language_info": {
   "codemirror_mode": {
    "name": "ipython",
    "version": 3
   },
   "file_extension": ".py",
   "mimetype": "text/x-python",
   "name": "python",
   "nbconvert_exporter": "python",
   "pygments_lexer": "ipython3",
   "version": "3.7.0"
  }
 },
 "nbformat": 4,
 "nbformat_minor": 2
}
